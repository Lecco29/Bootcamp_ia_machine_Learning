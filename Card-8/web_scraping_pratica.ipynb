{
  "nbformat": 4,
  "nbformat_minor": 0,
  "metadata": {
    "colab": {
      "provenance": []
    },
    "kernelspec": {
      "name": "python3",
      "display_name": "Python 3"
    },
    "language_info": {
      "name": "python"
    }
  },
  "cells": [
    {
      "cell_type": "code",
      "execution_count": 2,
      "metadata": {
        "colab": {
          "base_uri": "https://localhost:8080/",
          "height": 211
        },
        "id": "koanB3ckdwOW",
        "outputId": "3793aecb-a8b1-4eb1-d4a1-1358ff303c70"
      },
      "outputs": [
        {
          "output_type": "stream",
          "name": "stdout",
          "text": [
            "S&P 500 Price: 5,946.33\n",
            "Aguarde 1 minuto(s)...\n"
          ]
        },
        {
          "output_type": "error",
          "ename": "KeyboardInterrupt",
          "evalue": "",
          "traceback": [
            "\u001b[0;31m---------------------------------------------------------------------------\u001b[0m",
            "\u001b[0;31mKeyboardInterrupt\u001b[0m                         Traceback (most recent call last)",
            "\u001b[0;32m<ipython-input-2-628abb59f973>\u001b[0m in \u001b[0;36m<cell line: 26>\u001b[0;34m()\u001b[0m\n\u001b[1;32m     29\u001b[0m         \u001b[0mintervalo_tempo\u001b[0m \u001b[0;34m=\u001b[0m \u001b[0;36m1\u001b[0m  \u001b[0;31m# Intervalo em minutos\u001b[0m\u001b[0;34m\u001b[0m\u001b[0;34m\u001b[0m\u001b[0m\n\u001b[1;32m     30\u001b[0m         \u001b[0mprint\u001b[0m\u001b[0;34m(\u001b[0m\u001b[0;34mf'Aguarde {intervalo_tempo} minuto(s)...'\u001b[0m\u001b[0;34m)\u001b[0m\u001b[0;34m\u001b[0m\u001b[0;34m\u001b[0m\u001b[0m\n\u001b[0;32m---> 31\u001b[0;31m         \u001b[0mtime\u001b[0m\u001b[0;34m.\u001b[0m\u001b[0msleep\u001b[0m\u001b[0;34m(\u001b[0m\u001b[0mintervalo_tempo\u001b[0m \u001b[0;34m*\u001b[0m \u001b[0;36m60\u001b[0m\u001b[0;34m)\u001b[0m  \u001b[0;31m# Aguarda o intervalo antes de repetir\u001b[0m\u001b[0;34m\u001b[0m\u001b[0;34m\u001b[0m\u001b[0m\n\u001b[0m",
            "\u001b[0;31mKeyboardInterrupt\u001b[0m: "
          ]
        }
      ],
      "source": [
        "from bs4 import BeautifulSoup\n",
        "import requests\n",
        "import time\n",
        "\n",
        "# URL do Yahoo Finance\n",
        "url = 'https://finance.yahoo.com/quote/%5EGSPC/'\n",
        "\n",
        "# Função para buscar o preço do índice\n",
        "def busca_de_preco():\n",
        "    # Obtém o conteúdo da página\n",
        "    html_text = requests.get(url, headers={'User-Agent': 'Mozilla/5.0'}).text\n",
        "\n",
        "    # Analisa o HTML com BeautifulSoup\n",
        "    soup = BeautifulSoup(html_text, 'lxml')\n",
        "\n",
        "    # Localiza o preço\n",
        "    sem_preco = soup.find('fin-streamer', attrs={'data-field': 'regularMarketPrice'})\n",
        "\n",
        "    if sem_preco:\n",
        "        preco = sem_preco.text.strip()\n",
        "        print(f\"S&P 500 Price: {preco}\")\n",
        "    else:\n",
        "        print(\"preço nao encontrado.\")\n",
        "\n",
        "# If para automatização\n",
        "if __name__ == '__main__':\n",
        "    while True:\n",
        "        busca_de_preco()  # Chama a função para buscar o preço\n",
        "        intervalo_tempo = 1  # Intervalo em minutos\n",
        "        print(f'Aguarde {intervalo_tempo} minuto(s)...')\n",
        "        time.sleep(intervalo_tempo * 60)  # Aguarda o intervalo antes de repetir\n"
      ]
    },
    {
      "cell_type": "code",
      "source": [],
      "metadata": {
        "id": "WWhHi9UsV-Ku"
      },
      "execution_count": null,
      "outputs": []
    }
  ]
}