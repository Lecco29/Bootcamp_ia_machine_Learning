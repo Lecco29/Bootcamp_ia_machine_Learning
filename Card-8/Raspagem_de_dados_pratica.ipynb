{
  "nbformat": 4,
  "nbformat_minor": 0,
  "metadata": {
    "colab": {
      "provenance": []
    },
    "kernelspec": {
      "name": "python3",
      "display_name": "Python 3"
    },
    "language_info": {
      "name": "python"
    }
  },
  "cells": [
    {
      "cell_type": "code",
      "execution_count": 1,
      "metadata": {
        "id": "gExKG1u-IUbJ"
      },
      "outputs": [],
      "source": [
        "import requests\n",
        "from bs4 import BeautifulSoup\n",
        "import pandas as pd\n"
      ]
    },
    {
      "cell_type": "code",
      "source": [
        "# Fazendo a requisição para a página de produtos\n",
        "url = 'https://lista.mercadolivre.com.br/placa-de-video#D[A:placa%20de%20video]'\n",
        "response = requests.get(url)\n",
        "html = response.text\n",
        "\n",
        "# Criando o objeto Beautiful Soup\n",
        "soup = BeautifulSoup(html, 'html.parser')\n",
        "\n",
        "# Buscando todos os elementos que contêm os preços dos produtos\n",
        "preco = soup.find_all('div', class_=\"poly-component__price\")\n",
        "\n",
        "# Extraindo e imprimindo os preços\n",
        "lista_precos = []  # Lista única para armazenar todos os valores\n",
        "\n",
        "for elemento in preco:\n",
        "    lista_precos.append(elemento.text.strip())  # Adiciona o texto limpo à lista\n",
        "\n",
        "print(lista_precos)  # Exibe a lista única com todos os valores\n",
        "\n",
        "\n"
      ],
      "metadata": {
        "colab": {
          "base_uri": "https://localhost:8080/"
        },
        "id": "hjj20G76IcFA",
        "outputId": "384a1918-5ea5-452f-b947-9e4b25525610"
      },
      "execution_count": 5,
      "outputs": [
        {
          "output_type": "stream",
          "name": "stdout",
          "text": [
            "['R$359,90R$338,306% OFFem 12x R$33,08', 'R$804,99em 12x R$77,71', 'R$1.148R$975,8015% OFFem 10x R$97,58 sem juros', 'R$1.247R$892,2528% OFFem 10x R$89,22 sem juros', 'R$714em 12x R$68,92', 'R$168R$149,9010% OFFem 12x R$14,70', 'R$200,50R$120,3040% OFFem 12x R$11,79', 'R$153em 12x R$15', 'R$532R$468,1612% OFFem 12x R$45,19', 'R$462,20em 12x R$44,62', 'R$2.459em 10x R$245,99 sem juros', 'R$2.361À vista', 'R$609,99R$567,297% OFFem 12x R$54,76', 'R$655,55R$589,9910% OFFem 10x R$59 sem juros', 'R$299,99R$245,9018% OFFem 12x R$24,11', 'R$169,90R$149,5112% OFFem 12x R$14,66', 'R$165em 5x R$33 sem juros', 'R$799em 10x R$79,90 sem juros', 'R$444,14em 10x R$44,41 sem juros', 'R$160em 12x R$15,69', 'R$2.198R$2.0885% OFFem 12x R$200,78', 'R$2.397R$2.2068% OFFem 10x R$220,61 sem juros', 'R$789em 10x R$78,90 sem juros', 'R$309,99em 12x R$30,31', 'R$335,99em 10x R$33,60 sem juros', 'R$2.999R$2.69910% OFFem 10x R$269,91 sem juros', 'R$2.899R$2.58011% OFFÀ vista', 'R$616,04R$493,0519% OFFem 12x R$47,60', 'R$599R$449,2525% OFFem 10x R$44,92 sem juros', 'R$130em 12x R$12,74', 'R$2.879R$2.38917% OFFem 10x R$238,96 sem juros', 'R$2.799R$2.32317% OFFÀ vista', 'R$13.999em 12x R$1.345', 'R$1.297em 12x R$125,47', 'R$2.194R$1.37937% OFFem 10x R$137,90 sem juros', 'R$529em 10x R$52,90 sem juros', 'R$779em 12x R$75,20', 'R$339,90R$322,905% OFFem 12x R$31,57', 'R$499em 10x R$49,90 sem juros', 'R$2.400em 12x R$230,68', 'R$2.639em 10x R$263,90 sem juros', 'R$172,22R$1559% OFFem 12x R$15,20', 'R$489R$459,666% OFFem 12x R$44,37', 'R$2.890em 12x R$277,78', 'R$3.163em 10x R$316,36 sem juros', 'R$595em 10x R$59,50 sem juros', 'R$448R$394,2412% OFFem 12x R$38,55', 'R$474R$421,8611% OFFem 10x R$42,19 sem juros', 'R$469,90em 12x R$45,36', 'R$499,90em 10x R$49,99 sem juros', 'R$559,90em 10x R$55,99 sem juros', 'R$214,99R$15129% OFFem 12x R$14,80', 'R$27,99R$25,1910% OFFem 12x R$2,47', 'R$441em 10x R$44,10 sem juros', 'R$549,90R$399,5227% OFFem 12x R$39,07', 'R$267,65em 12x R$26,17', 'R$286,19em 9x R$31,80 sem juros', 'R$2.909R$2.7346% OFFem 10x R$273,45 sem juros', 'R$149em 12x R$14,61', 'R$2.899em 10x R$289,99 sem juros', 'R$2.805À vista', 'R$3.759em 12x R$361,30', 'R$309,90R$229,3226% OFFem 12x R$22,48']\n"
          ]
        }
      ]
    },
    {
      "cell_type": "code",
      "source": [
        "# Fazendo a requisição para a página de produtos\n",
        "url = 'https://lista.mercadolivre.com.br/placa-de-video#D[A:placa%20de%20video]'\n",
        "response = requests.get(url)\n",
        "html = response.text\n",
        "\n",
        "# Criando o objeto Beautiful Soup\n",
        "soup = BeautifulSoup(html, 'html.parser')\n",
        "\n",
        "# Buscando todos os elementos que contêm os títulos dos produtos\n",
        "produto = soup.find_all('h2', class_=\"poly-box poly-component__title\")\n",
        "\n",
        "lista_produto = []\n",
        "\n",
        "# Extraindo e imprimindo os títulos\n",
        "for produto in produto:\n",
        "    lista_produto.append(produto.text.strip())\n",
        "\n",
        "print(lista_produto)\n"
      ],
      "metadata": {
        "colab": {
          "base_uri": "https://localhost:8080/"
        },
        "id": "kyhmEYVCIg4X",
        "outputId": "c42d4363-3d1f-4868-fe9e-2c59aed29277"
      },
      "execution_count": 7,
      "outputs": [
        {
          "output_type": "stream",
          "name": "stdout",
          "text": [
            "['Placa De Vídeo R7 240 Ddr5 2gb Vga Hdmi Amd Pcie X16 3.0', 'Placa De Vídeo Gamer Amd Radeon Rx580 Gddr5 8g Hdmi Dp', 'Placa de vídeo Nvidia MSI  Ventus XS GeForce GTX 16 Series GTX 1650 GEFORCE GTX 1650 D6 VENTUS XS OC OC Edition 4GB', 'Placa De Vídeo Msi Geforce Gtx 1650 Ventus Xs Ocv3 4gb D6', 'Placa de vídeo AMD Radeon RX 580 8GB DDR5 256 BIT 2048SP', 'Placa De Vídeo Evolut Geforce Gt610 2gb Ddr3 Dvi/hdmi/vga', 'Placa De Vídeo Evolut Geforce G210 1gb Ddr3 Dvi-i/vga/hdmi', 'Placa De Vídeo Gt610 Ddr3 2gb Vga Hdmi Nvidia Pcie X16 2.0', 'Placa De Video Rx 550 4gb Gddr5 Ddr5 128bits Com', 'Placa De Vídeo Radeon Gamer Amd Rx550 Gddr5 4g Dvi Hdmi Dp', 'G Placa Gráfica De Computador Desktop Gaming Hd6770 4gb', 'Placa De Vídeo Gigabyte AMD RX 7600 8GB Gaming', 'Placa De Vídeo Pcyes Radeon Rx 550 4gb Gddr5 Hdmi/dp/dvi', 'Gpu Nvidia Geforce Gt 710 2gb Ddr3 64bits Pcyes Pvgt7102gb', 'Placa De Vídeo Geforce G 210 Pcyes Nvidia 1gb Ddr3 64 Bits', 'Placa De Vídeo Nvidia Geforce Gtx 550ti 2gb Ddr5 128bits', 'Placa De Vídeo Nvidia Ge Force Gt610 2gb Ddr3 Hdmi Vga Dvi', 'Placa De Vídeo Rx 580 8gb Ddr5 256 Bit Delta', 'Placa Vídeo Gt740 Geforce Gddr5 4g Clock 5000mhz 3d Vision', 'Placa de vídeo AMD Afox  Radeon R5 Series R5 220 AFR5220-2048D3L9-V2 2GB', 'Placa de vídeo Nvidia MSI  Ventus GeForce RTX 30 Series RTX 3060 GEFORCE RTX 3060 VENTUS 2X 12G OC OC Edition 12GB', 'Placa de vídeo Nvidia  Quadro Series P400 2GB', 'Placa De Vídeo Gamer Jogos Geforce G730 Nvidia 4gb Ddr3', 'Placa Video 8gb Rtx4060 Asus Dual-rtx4060-o8g-evo', 'Placa De Vídeo Nvidia Pcyes Geforce 700 Gtx 750 Ti 2gb', 'Placa De Vídeo Nvidia Geforce Gt 740 4gb Ddr5 Hdmi  Alto De', 'Placa de vídeo Nvidia Knup  GeForce 200 Series GT 210 KP-GT210 1GB', 'Placa de vídeo Nvidia Asus  Dual GeForce RTX 30 Series RTX 3060 DUAL-RTX3060-O12G-V2 OC Edition 12GB', 'Placa de vídeo Nvidia MSI  Gaming X Trio GeForce RTX 40 Series RTX 4090 GEFORCE RTX 4090 GAMING X TRIO 24GB', 'Placa De Vídeo Galax Nvidia Geforce Rtx 3050 Ex Oc 6gb Gddr6', 'Placa De Video Gamer Nvidia Geforce Gtx750 Gddr5 4gb 128bits', 'Placa De Vídeo Amd Radeon Rx580 2048sp 8gb Gddr5', 'Placa de vídeo Nvidia Dex  GeForce 500 Series GTX 550 Ti PV-05 1GB', 'Placa de vídeo Nvidia Pcyes  GeForce 700 Series GT 740 PA740GT12804D5FZ 4GB', 'Placa de vídeo Zotac Rtx 4060 Twin Edga Geforce Oc 8gb Gddr6', 'Placa de vídeo Nvidia Pcyes  GeForce 200 Series G210 PA210G6401D3LP 1GB', 'Placa De Vídeo Amd Radeon Rx 550 4gb Gddr5 128 Bits Revenger', 'Placa De Vídeo Galax Nvidia Geforce Rtx 4060 1click Oc 2x V2', 'Placa De Video Amd Radeon Rx560 4gb 128bits Gddr5 Hdmi Gamer', 'Placa De Vídeo Geforce Gt 740 4gb Gddr5 Bluecase Nvidia', 'Placa de vídeo Nvidia Pcyes  GeForce 700 Series GT 740 PVGT7404GBR5128 4GB', 'Placa De Vídeo Gamer Nvidia Geforce Gtx750ti 4gb Gddr5', 'Placa De Vídeo Pcyes Geforce G210 Low Profile 1gb Ddr3 64bit', 'Espelho Perfil Alto Para Placas De Vídeo (brackets De 12 Cm)', 'Placa De Vídeo Geforce Gtx 550ti 4gb Ddr5 128bits Revenger', 'Placa De Video R7 240 4gb Gddr5 128 Bits Single Fan', 'Placa De Vídeo Gddr5 2gb Pcle 2.0 128bit 625mhz', 'Placa de vídeo Nvidia Gigabyte  Aero GeForce RTX 40 Series RTX 4060 8 GB GV-N4060AERO OC-8GD OC Edition 8GB', 'Placa de vídeo Nvidia Kingster  2019 GeForce 200 Series GT 210 PA210G6401D3LP 1GB', 'Placa de vídeo AMD ASRock  Challenger Radeon RX 6600 Series RX 6600 RX6600 CLD 8G 8GB']\n"
          ]
        }
      ]
    },
    {
      "cell_type": "code",
      "source": [
        "# esta verificando  o menor tamanho entre as listas\n",
        "tamanho_minimo = min(len(lista_produto), len(lista_precos))\n",
        "\n",
        "# Ajusta as duas listas para o mesmo tamanho\n",
        "lista_produto = lista_produto[:tamanho_minimo]\n",
        "lista_precos = lista_precos[:tamanho_minimo]\n",
        "\n",
        "# Criando um data frame para demonstrar o resultado da raspagem\n",
        "df = pd.DataFrame({\n",
        "    'Nome da Peça': lista_produto,\n",
        "    'Preço': lista_precos\n",
        "})\n",
        "\n",
        "print(df)\n"
      ],
      "metadata": {
        "colab": {
          "base_uri": "https://localhost:8080/"
        },
        "id": "m1ndVVpDIwhp",
        "outputId": "da756189-9d5a-4e8c-99a4-f5c9ab604a06"
      },
      "execution_count": 11,
      "outputs": [
        {
          "output_type": "stream",
          "name": "stdout",
          "text": [
            "                                                                                                           Nome da Peça                                           Preço\n",
            "0                                                              Placa De Vídeo R7 240 Ddr5 2gb Vga Hdmi Amd Pcie X16 3.0            R$359,90R$338,306% OFFem 12x R$33,08\n",
            "1                                                                Placa De Vídeo Gamer Amd Radeon Rx580 Gddr5 8g Hdmi Dp                          R$804,99em 12x R$77,71\n",
            "2   Placa de vídeo Nvidia MSI  Ventus XS GeForce GTX 16 Series GTX 1650 GEFORCE GTX 1650 D6 VENTUS XS OC OC Edition 4GB  R$1.148R$975,8015% OFFem 10x R$97,58 sem juros\n",
            "3                                                             Placa De Vídeo Msi Geforce Gtx 1650 Ventus Xs Ocv3 4gb D6  R$1.247R$892,2528% OFFem 10x R$89,22 sem juros\n",
            "4                                                              Placa de vídeo AMD Radeon RX 580 8GB DDR5 256 BIT 2048SP                             R$714em 12x R$68,92\n",
            "5                                                             Placa De Vídeo Evolut Geforce Gt610 2gb Ddr3 Dvi/hdmi/vga              R$168R$149,9010% OFFem 12x R$14,70\n",
            "6                                                            Placa De Vídeo Evolut Geforce G210 1gb Ddr3 Dvi-i/vga/hdmi           R$200,50R$120,3040% OFFem 12x R$11,79\n",
            "7                                                            Placa De Vídeo Gt610 Ddr3 2gb Vga Hdmi Nvidia Pcie X16 2.0                                R$153em 12x R$15\n",
            "8                                                                      Placa De Video Rx 550 4gb Gddr5 Ddr5 128bits Com              R$532R$468,1612% OFFem 12x R$45,19\n",
            "9                                                            Placa De Vídeo Radeon Gamer Amd Rx550 Gddr5 4g Dvi Hdmi Dp                          R$462,20em 12x R$44,62\n",
            "10                                                              G Placa Gráfica De Computador Desktop Gaming Hd6770 4gb                R$2.459em 10x R$245,99 sem juros\n",
            "11                                                                       Placa De Vídeo Gigabyte AMD RX 7600 8GB Gaming                                  R$2.361À vista\n",
            "12                                                             Placa De Vídeo Pcyes Radeon Rx 550 4gb Gddr5 Hdmi/dp/dvi            R$609,99R$567,297% OFFem 12x R$54,76\n",
            "13                                                           Gpu Nvidia Geforce Gt 710 2gb Ddr3 64bits Pcyes Pvgt7102gb    R$655,55R$589,9910% OFFem 10x R$59 sem juros\n",
            "14                                                           Placa De Vídeo Geforce G 210 Pcyes Nvidia 1gb Ddr3 64 Bits           R$299,99R$245,9018% OFFem 12x R$24,11\n",
            "15                                                             Placa De Vídeo Nvidia Geforce Gtx 550ti 2gb Ddr5 128bits           R$169,90R$149,5112% OFFem 12x R$14,66\n",
            "16                                                           Placa De Vídeo Nvidia Ge Force Gt610 2gb Ddr3 Hdmi Vga Dvi                       R$165em 5x R$33 sem juros\n",
            "17                                                                         Placa De Vídeo Rx 580 8gb Ddr5 256 Bit Delta                   R$799em 10x R$79,90 sem juros\n",
            "18                                                           Placa Vídeo Gt740 Geforce Gddr5 4g Clock 5000mhz 3d Vision                R$444,14em 10x R$44,41 sem juros\n",
            "19                                             Placa de vídeo AMD Afox  Radeon R5 Series R5 220 AFR5220-2048D3L9-V2 2GB                             R$160em 12x R$15,69\n",
            "20   Placa de vídeo Nvidia MSI  Ventus GeForce RTX 30 Series RTX 3060 GEFORCE RTX 3060 VENTUS 2X 12G OC OC Edition 12GB             R$2.198R$2.0885% OFFem 12x R$200,78\n",
            "21                                                                        Placa de vídeo Nvidia  Quadro Series P400 2GB   R$2.397R$2.2068% OFFem 10x R$220,61 sem juros\n",
            "22                                                              Placa De Vídeo Gamer Jogos Geforce G730 Nvidia 4gb Ddr3                   R$789em 10x R$78,90 sem juros\n",
            "23                                                                    Placa Video 8gb Rtx4060 Asus Dual-rtx4060-o8g-evo                          R$309,99em 12x R$30,31\n",
            "24                                                               Placa De Vídeo Nvidia Pcyes Geforce 700 Gtx 750 Ti 2gb                R$335,99em 10x R$33,60 sem juros\n",
            "25                                                          Placa De Vídeo Nvidia Geforce Gt 740 4gb Ddr5 Hdmi  Alto De  R$2.999R$2.69910% OFFem 10x R$269,91 sem juros\n",
            "26                                                   Placa de vídeo Nvidia Knup  GeForce 200 Series GT 210 KP-GT210 1GB                    R$2.899R$2.58011% OFFÀ vista\n",
            "27                 Placa de vídeo Nvidia Asus  Dual GeForce RTX 30 Series RTX 3060 DUAL-RTX3060-O12G-V2 OC Edition 12GB           R$616,04R$493,0519% OFFem 12x R$47,60\n",
            "28          Placa de vídeo Nvidia MSI  Gaming X Trio GeForce RTX 40 Series RTX 4090 GEFORCE RTX 4090 GAMING X TRIO 24GB    R$599R$449,2525% OFFem 10x R$44,92 sem juros\n",
            "29                                                         Placa De Vídeo Galax Nvidia Geforce Rtx 3050 Ex Oc 6gb Gddr6                             R$130em 12x R$12,74\n",
            "30                                                         Placa De Video Gamer Nvidia Geforce Gtx750 Gddr5 4gb 128bits  R$2.879R$2.38917% OFFem 10x R$238,96 sem juros\n",
            "31                                                                     Placa De Vídeo Amd Radeon Rx580 2048sp 8gb Gddr5                    R$2.799R$2.32317% OFFÀ vista\n",
            "32                                                   Placa de vídeo Nvidia Dex  GeForce 500 Series GTX 550 Ti PV-05 1GB                          R$13.999em 12x R$1.345\n",
            "33                                          Placa de vídeo Nvidia Pcyes  GeForce 700 Series GT 740 PA740GT12804D5FZ 4GB                          R$1.297em 12x R$125,47\n",
            "34                                                         Placa de vídeo Zotac Rtx 4060 Twin Edga Geforce Oc 8gb Gddr6  R$2.194R$1.37937% OFFem 10x R$137,90 sem juros\n",
            "35                                              Placa de vídeo Nvidia Pcyes  GeForce 200 Series G210 PA210G6401D3LP 1GB                   R$529em 10x R$52,90 sem juros\n",
            "36                                                         Placa De Vídeo Amd Radeon Rx 550 4gb Gddr5 128 Bits Revenger                             R$779em 12x R$75,20\n",
            "37                                                         Placa De Vídeo Galax Nvidia Geforce Rtx 4060 1click Oc 2x V2            R$339,90R$322,905% OFFem 12x R$31,57\n",
            "38                                                         Placa De Video Amd Radeon Rx560 4gb 128bits Gddr5 Hdmi Gamer                   R$499em 10x R$49,90 sem juros\n",
            "39                                                              Placa De Vídeo Geforce Gt 740 4gb Gddr5 Bluecase Nvidia                          R$2.400em 12x R$230,68\n",
            "40                                           Placa de vídeo Nvidia Pcyes  GeForce 700 Series GT 740 PVGT7404GBR5128 4GB                R$2.639em 10x R$263,90 sem juros\n",
            "41                                                               Placa De Vídeo Gamer Nvidia Geforce Gtx750ti 4gb Gddr5               R$172,22R$1559% OFFem 12x R$15,20\n",
            "42                                                         Placa De Vídeo Pcyes Geforce G210 Low Profile 1gb Ddr3 64bit               R$489R$459,666% OFFem 12x R$44,37\n",
            "43                                                         Espelho Perfil Alto Para Placas De Vídeo (brackets De 12 Cm)                          R$2.890em 12x R$277,78\n",
            "44                                                           Placa De Vídeo Geforce Gtx 550ti 4gb Ddr5 128bits Revenger                R$3.163em 10x R$316,36 sem juros\n",
            "45                                                                  Placa De Video R7 240 4gb Gddr5 128 Bits Single Fan                   R$595em 10x R$59,50 sem juros\n",
            "46                                                                      Placa De Vídeo Gddr5 2gb Pcle 2.0 128bit 625mhz              R$448R$394,2412% OFFem 12x R$38,55\n",
            "47          Placa de vídeo Nvidia Gigabyte  Aero GeForce RTX 40 Series RTX 4060 8 GB GV-N4060AERO OC-8GD OC Edition 8GB    R$474R$421,8611% OFFem 10x R$42,19 sem juros\n",
            "48                                    Placa de vídeo Nvidia Kingster  2019 GeForce 200 Series GT 210 PA210G6401D3LP 1GB                          R$469,90em 12x R$45,36\n",
            "49                                Placa de vídeo AMD ASRock  Challenger Radeon RX 6600 Series RX 6600 RX6600 CLD 8G 8GB                R$499,90em 10x R$49,99 sem juros\n"
          ]
        }
      ]
    }
  ]
}
