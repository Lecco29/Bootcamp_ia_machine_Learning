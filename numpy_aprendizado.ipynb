{
 "cells": [
  {
   "cell_type": "code",
   "execution_count": 1,
   "id": "fadd50fd-af65-4d75-b64e-8f1b746e93b4",
   "metadata": {},
   "outputs": [],
   "source": [
    "import numpy as np"
   ]
  },
  {
   "cell_type": "code",
   "execution_count": 8,
   "id": "16ea466d-9d59-42b2-892f-74c093dfd7c9",
   "metadata": {},
   "outputs": [],
   "source": [
    "minha_lista = [20,30,10]"
   ]
  },
  {
   "cell_type": "markdown",
   "id": "f763ec37-0d34-4027-a1c4-73c76bc9186e",
   "metadata": {},
   "source": [
    "## convertendo minha lista do python nativo para um array do numpy"
   ]
  },
  {
   "cell_type": "code",
   "execution_count": 5,
   "id": "f8a00201-0d9a-40d2-b95a-18d23d7f8713",
   "metadata": {},
   "outputs": [],
   "source": [
    "lista = np.array(minha_lista)"
   ]
  },
  {
   "cell_type": "code",
   "execution_count": 6,
   "id": "ba4a3bfe-93e1-4aa7-a66b-54c1253934f7",
   "metadata": {},
   "outputs": [
    {
     "name": "stdout",
     "output_type": "stream",
     "text": [
      "[20 30 10]\n"
     ]
    }
   ],
   "source": [
    "print (lista)"
   ]
  },
  {
   "cell_type": "code",
   "execution_count": 7,
   "id": "2420ae44-6a41-4c3f-827a-1a79e9a6c4e0",
   "metadata": {},
   "outputs": [
    {
     "data": {
      "text/plain": [
       "numpy.ndarray"
      ]
     },
     "execution_count": 7,
     "metadata": {},
     "output_type": "execute_result"
    }
   ],
   "source": [
    "type(lista)"
   ]
  },
  {
   "cell_type": "markdown",
   "id": "606e822f-62a0-41ca-82cb-4e2811d3ca86",
   "metadata": {},
   "source": [
    "## criando um array com bidimensional usando a list, ou seja, uma matriz. "
   ]
  },
  {
   "cell_type": "code",
   "execution_count": 15,
   "id": "41e15631-da92-4a2a-9912-e09c5f906ba7",
   "metadata": {},
   "outputs": [
    {
     "data": {
      "text/plain": [
       "array([[20, 30, 10],\n",
       "       [52, 66, 99],\n",
       "       [44, 66, 88]])"
      ]
     },
     "execution_count": 15,
     "metadata": {},
     "output_type": "execute_result"
    }
   ],
   "source": [
    "list = np.array([[20,30,10,],[52,66,99],[44,66,88]])\n",
    "list"
   ]
  },
  {
   "cell_type": "markdown",
   "id": "2a02df06-f105-4213-9794-855ea1e79e9f",
   "metadata": {},
   "source": [
    "## usando o arenge para criar uma sequencia no array com (inicio, fim, parametro)"
   ]
  },
  {
   "cell_type": "code",
   "execution_count": 16,
   "id": "d62e800b-77d7-4a73-971e-036db249fab3",
   "metadata": {},
   "outputs": [
    {
     "data": {
      "text/plain": [
       "array([0, 2, 4, 6, 8])"
      ]
     },
     "execution_count": 16,
     "metadata": {},
     "output_type": "execute_result"
    }
   ],
   "source": [
    "np.arange(0,10,2)"
   ]
  },
  {
   "cell_type": "markdown",
   "id": "7cd7a0e5-7cc8-4a4f-9a58-42274b9b9a77",
   "metadata": {},
   "source": [
    "## atribuindo zeros no array bidimensional "
   ]
  },
  {
   "cell_type": "code",
   "execution_count": 21,
   "id": "a8fe5dd5-b20b-403d-9ddb-cfee42eff6db",
   "metadata": {},
   "outputs": [
    {
     "data": {
      "text/plain": [
       "array([[0., 0., 0., 0., 0.],\n",
       "       [0., 0., 0., 0., 0.],\n",
       "       [0., 0., 0., 0., 0.],\n",
       "       [0., 0., 0., 0., 0.],\n",
       "       [0., 0., 0., 0., 0.]])"
      ]
     },
     "execution_count": 21,
     "metadata": {},
     "output_type": "execute_result"
    }
   ],
   "source": [
    "arr = np.zeros((5,5))\n",
    "arr"
   ]
  },
  {
   "cell_type": "markdown",
   "id": "bedf83c7-4714-4827-8f31-dbc1c4cb2745",
   "metadata": {},
   "source": [
    "## atribuindo 1 no array bidimensional "
   ]
  },
  {
   "cell_type": "code",
   "execution_count": 35,
   "id": "def17aea-284a-4dca-b5b8-81cddc61bd98",
   "metadata": {},
   "outputs": [
    {
     "data": {
      "text/plain": [
       "array([[1., 1., 1.],\n",
       "       [1., 1., 1.],\n",
       "       [1., 1., 1.]])"
      ]
     },
     "execution_count": 35,
     "metadata": {},
     "output_type": "execute_result"
    }
   ],
   "source": [
    "np.ones((3,3))"
   ]
  },
  {
   "cell_type": "code",
   "execution_count": 29,
   "id": "da535006-01bb-44d4-8ed2-2fb53100ba6e",
   "metadata": {},
   "outputs": [
    {
     "data": {
      "text/plain": [
       "array([[2., 2., 2.],\n",
       "       [2., 2., 2.],\n",
       "       [2., 2., 2.]])"
      ]
     },
     "execution_count": 29,
     "metadata": {},
     "output_type": "execute_result"
    }
   ],
   "source": [
    "line = 2 * np.ones((3,3))\n",
    "line"
   ]
  },
  {
   "cell_type": "markdown",
   "id": "1d53e9f4-4ef3-4591-aaf4-fd299b581b4f",
   "metadata": {},
   "source": [
    "## matriz identidade "
   ]
  },
  {
   "cell_type": "code",
   "execution_count": 36,
   "id": "dae358f9-3a08-4e1c-9fde-fbd204846357",
   "metadata": {},
   "outputs": [
    {
     "data": {
      "text/plain": [
       "array([[1., 0., 0., 0., 0.],\n",
       "       [0., 1., 0., 0., 0.],\n",
       "       [0., 0., 1., 0., 0.],\n",
       "       [0., 0., 0., 1., 0.],\n",
       "       [0., 0., 0., 0., 1.]])"
      ]
     },
     "execution_count": 36,
     "metadata": {},
     "output_type": "execute_result"
    }
   ],
   "source": [
    "np.eye(5)"
   ]
  },
  {
   "cell_type": "markdown",
   "id": "14039ef3-e82f-451b-92cb-441d2005460c",
   "metadata": {},
   "source": [
    "## linspace requer um início e fim de números, \n",
    "## além da especificação da quantidade de números igualmente espaçados que deseja gerar"
   ]
  },
  {
   "cell_type": "code",
   "execution_count": 37,
   "id": "996a11cc-6b1e-4811-9d84-5da8370e9c71",
   "metadata": {},
   "outputs": [
    {
     "data": {
      "text/plain": [
       "array([  0.        ,   5.26315789,  10.52631579,  15.78947368,\n",
       "        21.05263158,  26.31578947,  31.57894737,  36.84210526,\n",
       "        42.10526316,  47.36842105,  52.63157895,  57.89473684,\n",
       "        63.15789474,  68.42105263,  73.68421053,  78.94736842,\n",
       "        84.21052632,  89.47368421,  94.73684211, 100.        ])"
      ]
     },
     "execution_count": 37,
     "metadata": {},
     "output_type": "execute_result"
    }
   ],
   "source": [
    "np.linspace(0,100,20) "
   ]
  },
  {
   "cell_type": "markdown",
   "id": "60ff241f-c6ad-4e9c-8068-fd264ce2ae4d",
   "metadata": {},
   "source": [
    "## o random.rand é uma função para gerar numeros aleatorios de 0 a 1 usando números aleatórios distribuídos uniformemente"
   ]
  },
  {
   "cell_type": "code",
   "execution_count": 83,
   "id": "5d967403-747b-46af-b96a-2dc98c0e055b",
   "metadata": {},
   "outputs": [
    {
     "data": {
      "text/plain": [
       "array([0.04029152, 0.01366439, 0.47710301, 0.11038158, 0.2271584 ,\n",
       "       0.24521244, 0.33503759, 0.31524313, 0.70717674, 0.33246391])"
      ]
     },
     "execution_count": 83,
     "metadata": {},
     "output_type": "execute_result"
    }
   ],
   "source": [
    "np.random.rand(10)"
   ]
  },
  {
   "cell_type": "markdown",
   "id": "6f3caa3e-1c35-4a6d-b3c8-853cb18b8783",
   "metadata": {},
   "source": [
    "## o random.randn é uma função para gerar numeros aleatorios de 0 a 1 usando o metodo gaussiano "
   ]
  },
  {
   "cell_type": "code",
   "execution_count": 39,
   "id": "1d4b7e5d-0735-42a3-906b-f20427b470ec",
   "metadata": {},
   "outputs": [
    {
     "data": {
      "text/plain": [
       "array([-1.02227696,  0.95761661, -1.60528361,  0.39224476, -1.38516363])"
      ]
     },
     "execution_count": 39,
     "metadata": {},
     "output_type": "execute_result"
    }
   ],
   "source": [
    "np.random.randn(5)"
   ]
  },
  {
   "cell_type": "markdown",
   "id": "4a0450fd-d8e5-4a16-a518-bd71ed9c069c",
   "metadata": {},
   "source": [
    "## a função random.randint vai escolher numeros aleatorios de um tamnho informado, \n",
    "## por exemplo de 0 a 99 e vai preencher a matriz 5x5"
   ]
  },
  {
   "cell_type": "code",
   "execution_count": 86,
   "id": "5ae462d0-ff3f-4818-98ac-1c945c03cad6",
   "metadata": {},
   "outputs": [
    {
     "data": {
      "text/plain": [
       "array([[64, 38, 65, 72, 21],\n",
       "       [29, 13, 36, 90, 99],\n",
       "       [90, 13, 65, 35, 62],\n",
       "       [92, 90, 52, 22, 80],\n",
       "       [ 8, 61, 82, 70, 80]])"
      ]
     },
     "execution_count": 86,
     "metadata": {},
     "output_type": "execute_result"
    }
   ],
   "source": [
    "np.random.randint(100, size = (5,5) )"
   ]
  },
  {
   "cell_type": "code",
   "execution_count": 49,
   "id": "0f175590-1acf-4289-8e5e-ff6f6447813b",
   "metadata": {},
   "outputs": [
    {
     "data": {
      "text/plain": [
       "array([0.84155973, 0.75108891, 0.5113724 , 0.6846688 , 0.54780866,\n",
       "       0.78445982, 0.00971072, 0.01036177, 0.13698855, 0.49277844,\n",
       "       0.43674143, 0.97485175, 0.6631948 , 0.63233722, 0.8671568 ,\n",
       "       0.88178305, 0.799083  , 0.27899466, 0.94378428, 0.38962889,\n",
       "       0.64814256, 0.19909341, 0.51884181, 0.88281031, 0.88022813,\n",
       "       0.22951591, 0.84572328, 0.06484502, 0.19215873, 0.93435977,\n",
       "       0.56333571, 0.16769622, 0.87143382, 0.63186935, 0.30333554,\n",
       "       0.33151318, 0.2286883 , 0.60066241, 0.12357273, 0.28502645,\n",
       "       0.16862262, 0.63406194, 0.85566511, 0.54866093, 0.40551546,\n",
       "       0.38254177, 0.03977413, 0.45350744, 0.10021236, 0.20128037])"
      ]
     },
     "execution_count": 49,
     "metadata": {},
     "output_type": "execute_result"
    }
   ],
   "source": [
    "arr2 = np.random.rand(50)\n",
    "arr2"
   ]
  },
  {
   "cell_type": "markdown",
   "id": "010454d6-ec71-4ba5-b5a0-d40013944405",
   "metadata": {},
   "source": [
    "## reshape muuda o array de uma dimensao para qualquer dimensao. "
   ]
  },
  {
   "cell_type": "code",
   "execution_count": 75,
   "id": "38231b4b-5814-475f-a87b-f96b4184c063",
   "metadata": {},
   "outputs": [
    {
     "data": {
      "text/plain": [
       "array([ 0,  1,  2,  3,  4,  5,  6,  7,  8,  9, 10, 11, 12, 13, 14, 15, 16,\n",
       "       17, 18, 19, 20, 21, 22, 23])"
      ]
     },
     "execution_count": 75,
     "metadata": {},
     "output_type": "execute_result"
    }
   ],
   "source": [
    "array5 = np.arange(24)\n",
    "array5"
   ]
  },
  {
   "cell_type": "code",
   "execution_count": 80,
   "id": "d793b93e-8925-4a06-b023-03052184a86f",
   "metadata": {},
   "outputs": [
    {
     "data": {
      "text/plain": [
       "array([[ 0,  1,  2,  3,  4,  5],\n",
       "       [ 6,  7,  8,  9, 10, 11],\n",
       "       [12, 13, 14, 15, 16, 17],\n",
       "       [18, 19, 20, 21, 22, 23]])"
      ]
     },
     "execution_count": 80,
     "metadata": {},
     "output_type": "execute_result"
    }
   ],
   "source": [
    "array5.reshape(4,6)"
   ]
  },
  {
   "cell_type": "markdown",
   "id": "b32d4f58-fb4d-420d-90e2-f76f5d9d08f8",
   "metadata": {},
   "source": [
    "## extrações de array para um sub array"
   ]
  },
  {
   "cell_type": "code",
   "execution_count": 89,
   "id": "1b7b79ca-14ae-47c7-ba9f-8f774ba4c3ae",
   "metadata": {},
   "outputs": [
    {
     "data": {
      "text/plain": [
       "array([ 0,  5, 10, 15, 20, 25, 30, 35, 40, 45, 50, 55, 60, 65, 70, 75])"
      ]
     },
     "execution_count": 89,
     "metadata": {},
     "output_type": "execute_result"
    }
   ],
   "source": [
    "num = np.arange(0,80,5)\n",
    "num"
   ]
  },
  {
   "cell_type": "code",
   "execution_count": 93,
   "id": "9ded6b68-f0aa-40a5-aa50-211914b52fa4",
   "metadata": {},
   "outputs": [
    {
     "data": {
      "text/plain": [
       "25"
      ]
     },
     "execution_count": 93,
     "metadata": {},
     "output_type": "execute_result"
    }
   ],
   "source": [
    "num[5]\n"
   ]
  },
  {
   "cell_type": "code",
   "execution_count": 92,
   "id": "80ff2598-b195-40ea-bf0c-28e9c280a7e0",
   "metadata": {},
   "outputs": [
    {
     "data": {
      "text/plain": [
       "array([ 0,  5, 10, 15, 20])"
      ]
     },
     "execution_count": 92,
     "metadata": {},
     "output_type": "execute_result"
    }
   ],
   "source": [
    "num[:5]"
   ]
  },
  {
   "cell_type": "code",
   "execution_count": 97,
   "id": "5593006d-dd6e-40f6-8c2c-2d9eb8b2d48b",
   "metadata": {},
   "outputs": [
    {
     "data": {
      "text/plain": [
       "array([  0,   5,  10,  15, 200,  25,  30,  35,  40,  45,  50,  55,  60,\n",
       "        65,  70,  75])"
      ]
     },
     "execution_count": 97,
     "metadata": {},
     "output_type": "execute_result"
    }
   ],
   "source": [
    "num[4:5] = 200\n",
    "num"
   ]
  },
  {
   "cell_type": "markdown",
   "id": "8f26dee4-31ed-4ce1-867c-8f642491d171",
   "metadata": {},
   "source": [
    "num2 = np.arange(60).reshape((6,10))\n",
    "num2"
   ]
  },
  {
   "cell_type": "markdown",
   "id": "ac5263c8-e444-4911-a288-dbda9a6e2013",
   "metadata": {},
   "source": [
    "## atraves de uma array num2 eu criei outa matriz colocando os parametros que eu quero. e eu ultilizei o "
   ]
  },
  {
   "cell_type": "code",
   "execution_count": 109,
   "id": "69cb2d10-1591-41e4-9698-f69b9959d062",
   "metadata": {},
   "outputs": [
    {
     "data": {
      "text/plain": [
       "array([[ 0,  1,  2,  3,  4,  5,  6,  7,  8,  9],\n",
       "       [10, 11, 12, 13, 14, 15, 16, 17, 18, 19],\n",
       "       [20, 21, 22, 23, 24, 25, 26, 27, 28, 29]])"
      ]
     },
     "execution_count": 109,
     "metadata": {},
     "output_type": "execute_result"
    }
   ],
   "source": [
    "num3 = num2[0:3][0:8].copy()\n",
    "num3"
   ]
  },
  {
   "cell_type": "markdown",
   "id": "018dd5fe-7321-4be3-94e3-619b9002c109",
   "metadata": {},
   "source": [
    "## foi definido bol sendo qualquer numero do num3 maior que 10\n",
    "## e então inseri bol para pegar somento os numeros maiores que 10"
   ]
  },
  {
   "cell_type": "code",
   "execution_count": 113,
   "id": "eaa45740-794b-4302-82aa-9b7dbf3218d9",
   "metadata": {},
   "outputs": [
    {
     "data": {
      "text/plain": [
       "array([11, 12, 13, 14, 15, 16, 17, 18, 19, 20, 21, 22, 23, 24, 25, 26, 27,\n",
       "       28, 29])"
      ]
     },
     "execution_count": 113,
     "metadata": {},
     "output_type": "execute_result"
    }
   ],
   "source": [
    "bol = num3 > 10\n",
    "num3[bol]"
   ]
  },
  {
   "cell_type": "markdown",
   "id": "587188fb-3792-433a-ba6b-02345b611a91",
   "metadata": {},
   "source": [
    "## aqui é possivel multiplicar array bidimensionais por outros array, porem te que ter o mesmo tamanho."
   ]
  },
  {
   "cell_type": "code",
   "execution_count": 114,
   "id": "acb4041a-5b44-4bb4-869f-552feda8c22d",
   "metadata": {},
   "outputs": [
    {
     "data": {
      "text/plain": [
       "array([[  0,   2,   4,   6,   8,  10,  12,  14,  16,  18],\n",
       "       [ 20,  22,  24,  26,  28,  30,  32,  34,  36,  38],\n",
       "       [ 40,  42,  44,  46,  48,  50,  52,  54,  56,  58],\n",
       "       [ 60,  62,  64,  66,  68,  70,  72,  74,  76,  78],\n",
       "       [ 80,  82,  84,  86,  88,  90,  92,  94,  96,  98],\n",
       "       [100, 102, 104, 106, 108, 110, 112, 114, 116, 118]])"
      ]
     },
     "execution_count": 114,
     "metadata": {},
     "output_type": "execute_result"
    }
   ],
   "source": [
    "num2 + num2"
   ]
  },
  {
   "cell_type": "code",
   "execution_count": 120,
   "id": "da7403e6-8e8a-4067-bc41-43bd6522abae",
   "metadata": {},
   "outputs": [
    {
     "data": {
      "text/plain": [
       "array([[   0,    1,    4,    9,   16,   25,   36,   49,   64,   81],\n",
       "       [ 100,  121,  144,  169,  196,  225,  256,  289,  324,  361],\n",
       "       [ 400,  441,  484,  529,  576,  625,  676,  729,  784,  841],\n",
       "       [ 900,  961, 1024, 1089, 1156, 1225, 1296, 1369, 1444, 1521],\n",
       "       [1600, 1681, 1764, 1849, 1936, 2025, 2116, 2209, 2304, 2401],\n",
       "       [2500, 2601, 2704, 2809, 2916, 3025, 3136, 3249, 3364, 3481]])"
      ]
     },
     "execution_count": 120,
     "metadata": {},
     "output_type": "execute_result"
    }
   ],
   "source": [
    "num2 **2"
   ]
  },
  {
   "cell_type": "code",
   "execution_count": 115,
   "id": "11b3d2ac-12f5-49c7-8073-1046a5f78d58",
   "metadata": {},
   "outputs": [
    {
     "data": {
      "text/plain": [
       "array([[0, 0, 0, 0, 0, 0, 0, 0, 0, 0],\n",
       "       [0, 0, 0, 0, 0, 0, 0, 0, 0, 0],\n",
       "       [0, 0, 0, 0, 0, 0, 0, 0, 0, 0],\n",
       "       [0, 0, 0, 0, 0, 0, 0, 0, 0, 0],\n",
       "       [0, 0, 0, 0, 0, 0, 0, 0, 0, 0],\n",
       "       [0, 0, 0, 0, 0, 0, 0, 0, 0, 0]])"
      ]
     },
     "execution_count": 115,
     "metadata": {},
     "output_type": "execute_result"
    }
   ],
   "source": [
    "num2 - num2"
   ]
  },
  {
   "cell_type": "code",
   "execution_count": 116,
   "id": "935a020a-0144-415c-9ee9-c80704a91c56",
   "metadata": {},
   "outputs": [
    {
     "name": "stderr",
     "output_type": "stream",
     "text": [
      "C:\\Users\\leona\\AppData\\Local\\Temp\\ipykernel_9752\\2383294106.py:1: RuntimeWarning: invalid value encountered in divide\n",
      "  num2/num2\n"
     ]
    },
    {
     "data": {
      "text/plain": [
       "array([[nan,  1.,  1.,  1.,  1.,  1.,  1.,  1.,  1.,  1.],\n",
       "       [ 1.,  1.,  1.,  1.,  1.,  1.,  1.,  1.,  1.,  1.],\n",
       "       [ 1.,  1.,  1.,  1.,  1.,  1.,  1.,  1.,  1.,  1.],\n",
       "       [ 1.,  1.,  1.,  1.,  1.,  1.,  1.,  1.,  1.,  1.],\n",
       "       [ 1.,  1.,  1.,  1.,  1.,  1.,  1.,  1.,  1.,  1.],\n",
       "       [ 1.,  1.,  1.,  1.,  1.,  1.,  1.,  1.,  1.,  1.]])"
      ]
     },
     "execution_count": 116,
     "metadata": {},
     "output_type": "execute_result"
    }
   ],
   "source": [
    "num2/num2 "
   ]
  },
  {
   "cell_type": "markdown",
   "id": "a6a2f141-87f9-49cb-a3ec-03c2e4dd04f2",
   "metadata": {},
   "source": [
    "## usando as funções de raiz, exponencial, media, minimo, maximo etc "
   ]
  },
  {
   "cell_type": "code",
   "execution_count": 122,
   "id": "db994855-e433-4b51-87da-309018f3bcd1",
   "metadata": {},
   "outputs": [
    {
     "data": {
      "text/plain": [
       "array([[0.        , 1.        , 1.41421356, 1.73205081, 2.        ,\n",
       "        2.23606798, 2.44948974, 2.64575131, 2.82842712, 3.        ],\n",
       "       [3.16227766, 3.31662479, 3.46410162, 3.60555128, 3.74165739,\n",
       "        3.87298335, 4.        , 4.12310563, 4.24264069, 4.35889894],\n",
       "       [4.47213595, 4.58257569, 4.69041576, 4.79583152, 4.89897949,\n",
       "        5.        , 5.09901951, 5.19615242, 5.29150262, 5.38516481],\n",
       "       [5.47722558, 5.56776436, 5.65685425, 5.74456265, 5.83095189,\n",
       "        5.91607978, 6.        , 6.08276253, 6.164414  , 6.244998  ],\n",
       "       [6.32455532, 6.40312424, 6.4807407 , 6.55743852, 6.63324958,\n",
       "        6.70820393, 6.78232998, 6.8556546 , 6.92820323, 7.        ],\n",
       "       [7.07106781, 7.14142843, 7.21110255, 7.28010989, 7.34846923,\n",
       "        7.41619849, 7.48331477, 7.54983444, 7.61577311, 7.68114575]])"
      ]
     },
     "execution_count": 122,
     "metadata": {},
     "output_type": "execute_result"
    }
   ],
   "source": [
    "np.sqrt(num2) "
   ]
  },
  {
   "cell_type": "code",
   "execution_count": 123,
   "id": "9de9a85e-1b0b-48b9-9e11-d18655156c32",
   "metadata": {},
   "outputs": [
    {
     "data": {
      "text/plain": [
       "array([[1.00000000e+00, 2.71828183e+00, 7.38905610e+00, 2.00855369e+01,\n",
       "        5.45981500e+01, 1.48413159e+02, 4.03428793e+02, 1.09663316e+03,\n",
       "        2.98095799e+03, 8.10308393e+03],\n",
       "       [2.20264658e+04, 5.98741417e+04, 1.62754791e+05, 4.42413392e+05,\n",
       "        1.20260428e+06, 3.26901737e+06, 8.88611052e+06, 2.41549528e+07,\n",
       "        6.56599691e+07, 1.78482301e+08],\n",
       "       [4.85165195e+08, 1.31881573e+09, 3.58491285e+09, 9.74480345e+09,\n",
       "        2.64891221e+10, 7.20048993e+10, 1.95729609e+11, 5.32048241e+11,\n",
       "        1.44625706e+12, 3.93133430e+12],\n",
       "       [1.06864746e+13, 2.90488497e+13, 7.89629602e+13, 2.14643580e+14,\n",
       "        5.83461743e+14, 1.58601345e+15, 4.31123155e+15, 1.17191424e+16,\n",
       "        3.18559318e+16, 8.65934004e+16],\n",
       "       [2.35385267e+17, 6.39843494e+17, 1.73927494e+18, 4.72783947e+18,\n",
       "        1.28516001e+19, 3.49342711e+19, 9.49611942e+19, 2.58131289e+20,\n",
       "        7.01673591e+20, 1.90734657e+21],\n",
       "       [5.18470553e+21, 1.40934908e+22, 3.83100800e+22, 1.04137594e+23,\n",
       "        2.83075330e+23, 7.69478527e+23, 2.09165950e+24, 5.68572000e+24,\n",
       "        1.54553894e+25, 4.20121040e+25]])"
      ]
     },
     "execution_count": 123,
     "metadata": {},
     "output_type": "execute_result"
    }
   ],
   "source": [
    "np.exp(num2)"
   ]
  },
  {
   "cell_type": "code",
   "execution_count": 124,
   "id": "ae922c85-94e2-4189-b289-d0268be7ddc0",
   "metadata": {},
   "outputs": [
    {
     "data": {
      "text/plain": [
       "29.5"
      ]
     },
     "execution_count": 124,
     "metadata": {},
     "output_type": "execute_result"
    }
   ],
   "source": [
    "np.mean(num2)"
   ]
  },
  {
   "cell_type": "code",
   "execution_count": 125,
   "id": "13025d6a-87ff-4702-836e-58d0e9ecf7d7",
   "metadata": {},
   "outputs": [
    {
     "data": {
      "text/plain": [
       "59"
      ]
     },
     "execution_count": 125,
     "metadata": {},
     "output_type": "execute_result"
    }
   ],
   "source": [
    "np.max(num2)"
   ]
  },
  {
   "cell_type": "code",
   "execution_count": 126,
   "id": "447a1412-0d74-4782-8cbe-bf00379faae4",
   "metadata": {},
   "outputs": [
    {
     "data": {
      "text/plain": [
       "0"
      ]
     },
     "execution_count": 126,
     "metadata": {},
     "output_type": "execute_result"
    }
   ],
   "source": [
    "np.min(num2)"
   ]
  },
  {
   "cell_type": "code",
   "execution_count": null,
   "id": "e189f472-162d-4461-a079-9d81f762126b",
   "metadata": {},
   "outputs": [],
   "source": []
  }
 ],
 "metadata": {
  "kernelspec": {
   "display_name": "Python 3 (ipykernel)",
   "language": "python",
   "name": "python3"
  },
  "language_info": {
   "codemirror_mode": {
    "name": "ipython",
    "version": 3
   },
   "file_extension": ".py",
   "mimetype": "text/x-python",
   "name": "python",
   "nbconvert_exporter": "python",
   "pygments_lexer": "ipython3",
   "version": "3.11.7"
  }
 },
 "nbformat": 4,
 "nbformat_minor": 5
}
